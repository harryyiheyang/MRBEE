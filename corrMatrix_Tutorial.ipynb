{
 "cells": [
  {
   "cell_type": "markdown",
   "id": "392c6066",
   "metadata": {},
   "source": [
    "# Overview\n",
    "`corrMatrix.py` is a command line tool to calculate the matrix of measurement error correlations **R** in with minimal user imput. \n",
    "\n",
    "# Arguments\n",
    "The `corrMatrix.py` program takes the following arguments:\n",
    "- `-data`: (Required) comma-separated list of filepaths to all GWAS sumstats\n",
    "- `-snp`: (Required) comma-separated list of SNP-identifying (i.e., rsID) column names for all GWAS sumstats (order must correspond to the order of the list passed to `-data`)\n",
    "- `-beta`: (Required) comma-separated list of names of BETA columns in GWAS sumstats (order matters, always)\n",
    "- `-se`: (Required) comma-separated list of names of SE columns in GWAS sumstats\n",
    "- `-pt`: (Optional) P-value threshold. Only SNPs with all GWAS estimates with P>this threshold will be used to calculate **R**.\n",
    "  - We recommend using `-pt 0.05`, which is the default value\n",
    "- `-names`: (Required) Comma-separated list of row, column names to assign to the correlation matrix **R**\n",
    "  - order corresponds to the order of data passed to `-data`\n",
    "- `-out`: (Required) Filepath (extension optional, will be space-separated) of location to write out correlation matrix **R**\n",
    "  - The correlation matrix **R** will also be printed on the screen\n",
    "  \n",
    "# Example\n",
    "Download the `corrMatrix.py` tool from our Github:"
   ]
  },
  {
   "cell_type": "code",
   "execution_count": null,
   "id": "857da3db",
   "metadata": {},
   "outputs": [],
   "source": [
    "wget https://raw.githubusercontent.com/noahlorinczcomi/MRBEE/main/corrMatrix.py"
   ]
  },
  {
   "cell_type": "markdown",
   "id": "ddacb835",
   "metadata": {},
   "source": [
    "Find the directory containing all of your GWAS summary statistics data sets. In this example, it will be the following:"
   ]
  },
  {
   "cell_type": "code",
   "execution_count": null,
   "id": "6abf2d0f",
   "metadata": {},
   "outputs": [],
   "source": [
    "cd /newdir\n",
    "pwd"
   ]
  },
  {
   "cell_type": "markdown",
   "id": "9444910e",
   "metadata": {},
   "source": [
    "Which will show you something like\n",
    "```unix\n",
    "gwasOutcomeset1.csv.gz  gwasOutcomeset2.txt  gwasExposureset1.txt.gz  gwasExposureset2.csv  corrMatrix.py\n",
    "```"
   ]
  },
  {
   "cell_type": "markdown",
   "id": "15e26da2",
   "metadata": {},
   "source": [
    "As implied, the GWAS summary statistic files can have different extensions/delimiters.\n",
    "\n",
    "You can use `corrMatrix.py` like this:"
   ]
  },
  {
   "cell_type": "code",
   "execution_count": null,
   "id": "af1fae93",
   "metadata": {},
   "outputs": [],
   "source": [
    "python corrMatrix.py \\\n",
    " -data gwasOutcomeset1.csv.gz,gwasOutcomeset2.txt,gwasExposureset1.txt.gz,gwasExposureset2.csv \\ \n",
    " -snp rsID,rsID,rsID,rsID \\\n",
    " -beta betaOutcome1,betaOutcome2,betaExposure1,betaExposure2 \\ \n",
    " -se seOutcome1,seOutcome2,seExposure1,seExposure2 \n",
    " -pt 0.05 \\\n",
    " -names y1,y2,x1,x2 \\\n",
    " -out R"
   ]
  },
  {
   "cell_type": "markdown",
   "id": "b36a0dda",
   "metadata": {},
   "source": [
    "which will print output similar to the following:\n",
    "```unix\n",
    "NOTE: -snp, -beta, -se, and -names flag declarations must be in the corresponding order of -data declarations\n",
    "the program is running\n",
    "          y1        y2        x1        x2\n",
    "y1  1.000000  0.001672 -0.003739  0.000473\n",
    "y2  0.001672  1.000000 -0.002589 -0.000470\n",
    "x1 -0.003739 -0.002589  1.000000  0.005381\n",
    "x2  0.000473 -0.000470  0.005381  1.000000\n",
    "81038 SNPs used in correlation matrix estimation\n",
    "```\n",
    "and took approximately 10 seconds to run for 1,000,000 SNPs.\n",
    "\n",
    "The correlation matrix $\\mathbf{R}$ will be stored in the `newdir/` directory in a space-delimited file named `R.txt` unless otherwise specifed by changing the argument given to the `out` flag.\n",
    "\n",
    "See `python corrMatrix.py --help` for additional guidance:\n",
    "```unix\n",
    "\n",
    "usage: Calculation of Correlation [-h] [-data DATA] [-snp SNP] [-beta BETA]\n",
    "                                  [-se SE] [-pt PT] [-names NAMES] [-out OUT]\n",
    "\n",
    "This program calculates the correlation between GWAS estimates for a pair of\n",
    "phenotypes\n",
    "\n",
    "optional arguments:\n",
    "  -h, --help    show this help message and exit\n",
    "  -data DATA    (Required) comma-separated list of filepaths to all GWAS\n",
    "                sumstats\n",
    "  -snp SNP      (Required) comma-separated list of SNP column names for all\n",
    "                GWAS sumstats\n",
    "  -beta BETA    (Required) comma-separated list of names of BETA columns in\n",
    "                GWAS sumstats\n",
    "  -se SE        (Required) comma-separated list of names of BETA columns in\n",
    "                GWAS sumstats\n",
    "  -pt PT        (Required) P-value threshold. Only SNPs with all GWAS\n",
    "                estimates P>this threshold will be considered\n",
    "  -names NAMES  (Required) Comma-separated list of row, column names to assign\n",
    "                to the correlation matrix\n",
    "  -out OUT      (Required) Directory (file location w/o extension) of location\n",
    "                to write out correlation matrix\n",
    "```"
   ]
  }
 ],
 "metadata": {
  "kernelspec": {
   "display_name": "Python 3 (ipykernel)",
   "language": "python",
   "name": "python3"
  },
  "language_info": {
   "codemirror_mode": {
    "name": "ipython",
    "version": 3
   },
   "file_extension": ".py",
   "mimetype": "text/x-python",
   "name": "python",
   "nbconvert_exporter": "python",
   "pygments_lexer": "ipython3",
   "version": "3.9.13"
  }
 },
 "nbformat": 4,
 "nbformat_minor": 5
}
